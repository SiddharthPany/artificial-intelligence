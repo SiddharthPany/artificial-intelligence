{
  "nbformat": 4,
  "nbformat_minor": 0,
  "metadata": {
    "colab": {
      "name": "Session5-Sol3.ipynb",
      "version": "0.3.2",
      "provenance": []
    },
    "kernelspec": {
      "name": "python3",
      "display_name": "Python 3"
    },
    "accelerator": "GPU"
  },
  "cells": [
    {
      "cell_type": "markdown",
      "metadata": {
        "id": "GdpVxL4Bs5nc",
        "colab_type": "text"
      },
      "source": [
        "ReLU after BN"
      ]
    },
    {
      "cell_type": "code",
      "metadata": {
        "id": "B36aZjvhs1i8",
        "colab_type": "code",
        "colab": {
          "base_uri": "https://localhost:8080/",
          "height": 85
        },
        "outputId": "1cd9037b-5c23-427b-f482-5bce15dedcce"
      },
      "source": [
        "import numpy as np\n",
        "\n",
        "from keras.models import Sequential\n",
        "from keras.layers import Dense, Dropout, Activation, Flatten, Add, BatchNormalization\n",
        "from keras.layers import Convolution2D, MaxPooling2D\n",
        "from keras.utils import np_utils\n",
        "\n",
        "from keras.preprocessing.image import ImageDataGenerator\n",
        "from keras.utils import to_categorical\n",
        "\n",
        "from keras.regularizers import l2\n",
        "\n",
        "from keras.datasets import mnist\n",
        "\n",
        "(X_train, y_train), (X_test, y_test) = mnist.load_data()\n",
        "\n",
        "width, height, channels = X_train.shape[1], X_train.shape[2], 1\n",
        "X_train = X_train.reshape((X_train.shape[0], width, height, channels))\n",
        "X_test = X_test.reshape((X_test.shape[0], width, height, channels))\n",
        "\n",
        "print('Statistics train=%.3f (%.3f), test=%.3f (%.3f)' % (X_train.mean(), X_train.std(), X_test.mean(), X_test.std()))\n",
        "\n",
        "# one hot encode target values\n",
        "y_train = to_categorical(y_train)\n",
        "y_test = to_categorical(y_test)\n",
        "\n",
        "datagen = ImageDataGenerator(featurewise_center=True, featurewise_std_normalization=True)\n",
        "# calculate mean on training dataset\n",
        "datagen.fit(X_train)\n",
        "\n",
        "print('Data Generator mean=%.3f, std=%.3f' % (datagen.mean, datagen.std))\n",
        "\n",
        "# prepare an iterators to scale images\n",
        "train_iterator = datagen.flow(X_train, y_train, batch_size=64,shuffle=False)\n",
        "test_iterator = datagen.flow(X_test, y_test, batch_size=64, shuffle=False)\n",
        "print('Batches train=%d, test=%d' % (len(train_iterator), len(test_iterator)))"
      ],
      "execution_count": 1,
      "outputs": [
        {
          "output_type": "stream",
          "text": [
            "Using TensorFlow backend.\n"
          ],
          "name": "stderr"
        },
        {
          "output_type": "stream",
          "text": [
            "Statistics train=33.318 (78.567), test=33.791 (79.172)\n",
            "Data Generator mean=33.318, std=78.567\n",
            "Batches train=938, test=157\n"
          ],
          "name": "stdout"
        }
      ]
    },
    {
      "cell_type": "code",
      "metadata": {
        "id": "7fm8gdTstFTp",
        "colab_type": "code",
        "colab": {
          "base_uri": "https://localhost:8080/",
          "height": 1533
        },
        "outputId": "724006ac-b0e7-4c25-e38b-61889c2c85e7"
      },
      "source": [
        "model = Sequential()\n",
        " \n",
        "model.add(Convolution2D(16, 3, 3, activation='relu', kernel_regularizer=l2(0.0001), input_shape=(28,28,1))) #26\n",
        "model.add(BatchNormalization())\n",
        "model.add(Activation('relu'))\n",
        "model.add(Dropout(0.1))\n",
        "\n",
        "model.add(Convolution2D(32, 3, 3, activation='relu', kernel_regularizer=l2(0.0001))) #24\n",
        "model.add(BatchNormalization())\n",
        "model.add(Activation('relu'))\n",
        "model.add(Dropout(0.1))\n",
        "\n",
        "model.add(Convolution2D(10, 1, 1, activation='relu',kernel_regularizer=l2(0.0001))) #22\n",
        "model.add(Activation('relu'))\n",
        "\n",
        "model.add(MaxPooling2D(pool_size=(2, 2)))#11\n",
        "\n",
        "model.add(Convolution2D(16, 3, 3, activation='relu',kernel_regularizer=l2(0.0001)))#9\n",
        "model.add(BatchNormalization())\n",
        "model.add(Activation('relu'))\n",
        "model.add(Dropout(0.1))\n",
        "\n",
        "\n",
        "model.add(Convolution2D(16, 3, 3, activation='relu',kernel_regularizer=l2(0.0001)))#7\n",
        "model.add(BatchNormalization())\n",
        "model.add(Activation('relu'))\n",
        "model.add(Dropout(0.1))\n",
        "\n",
        "\n",
        "model.add(Convolution2D(16, 3, 3, activation='relu',kernel_regularizer=l2(0.0001)))#5\n",
        "model.add(BatchNormalization())\n",
        "model.add(Activation('relu'))\n",
        "model.add(Dropout(0.1))\n",
        "\n",
        "\n",
        "model.add(Convolution2D(16, 3, 3, activation='relu',kernel_regularizer=l2(0.0001)))#3\n",
        "model.add(BatchNormalization())\n",
        "model.add(Activation('relu'))\n",
        "model.add(Dropout(0.1))\n",
        "\n",
        "\n",
        "model.add(Convolution2D(10, 4, 4))\n",
        "model.add(BatchNormalization())\n",
        "model.add(Dropout(0.1))\n",
        "\n",
        "\n",
        "model.add(Flatten())\n",
        "model.add(Activation('softmax'))\n",
        "\n",
        "\n",
        "model.summary()"
      ],
      "execution_count": 2,
      "outputs": [
        {
          "output_type": "stream",
          "text": [
            "WARNING:tensorflow:From /usr/local/lib/python3.6/dist-packages/tensorflow/python/framework/op_def_library.py:263: colocate_with (from tensorflow.python.framework.ops) is deprecated and will be removed in a future version.\n",
            "Instructions for updating:\n",
            "Colocations handled automatically by placer.\n"
          ],
          "name": "stdout"
        },
        {
          "output_type": "stream",
          "text": [
            "/usr/local/lib/python3.6/dist-packages/ipykernel_launcher.py:3: UserWarning: Update your `Conv2D` call to the Keras 2 API: `Conv2D(16, (3, 3), activation=\"relu\", kernel_regularizer=<keras.reg..., input_shape=(28, 28, 1...)`\n",
            "  This is separate from the ipykernel package so we can avoid doing imports until\n"
          ],
          "name": "stderr"
        },
        {
          "output_type": "stream",
          "text": [
            "WARNING:tensorflow:From /usr/local/lib/python3.6/dist-packages/keras/backend/tensorflow_backend.py:3445: calling dropout (from tensorflow.python.ops.nn_ops) with keep_prob is deprecated and will be removed in a future version.\n",
            "Instructions for updating:\n",
            "Please use `rate` instead of `keep_prob`. Rate should be set to `rate = 1 - keep_prob`.\n"
          ],
          "name": "stdout"
        },
        {
          "output_type": "stream",
          "text": [
            "/usr/local/lib/python3.6/dist-packages/ipykernel_launcher.py:8: UserWarning: Update your `Conv2D` call to the Keras 2 API: `Conv2D(32, (3, 3), activation=\"relu\", kernel_regularizer=<keras.reg...)`\n",
            "  \n",
            "/usr/local/lib/python3.6/dist-packages/ipykernel_launcher.py:13: UserWarning: Update your `Conv2D` call to the Keras 2 API: `Conv2D(10, (1, 1), activation=\"relu\", kernel_regularizer=<keras.reg...)`\n",
            "  del sys.path[0]\n",
            "/usr/local/lib/python3.6/dist-packages/ipykernel_launcher.py:18: UserWarning: Update your `Conv2D` call to the Keras 2 API: `Conv2D(16, (3, 3), activation=\"relu\", kernel_regularizer=<keras.reg...)`\n",
            "/usr/local/lib/python3.6/dist-packages/ipykernel_launcher.py:24: UserWarning: Update your `Conv2D` call to the Keras 2 API: `Conv2D(16, (3, 3), activation=\"relu\", kernel_regularizer=<keras.reg...)`\n",
            "/usr/local/lib/python3.6/dist-packages/ipykernel_launcher.py:30: UserWarning: Update your `Conv2D` call to the Keras 2 API: `Conv2D(16, (3, 3), activation=\"relu\", kernel_regularizer=<keras.reg...)`\n",
            "/usr/local/lib/python3.6/dist-packages/ipykernel_launcher.py:36: UserWarning: Update your `Conv2D` call to the Keras 2 API: `Conv2D(16, (3, 3), activation=\"relu\", kernel_regularizer=<keras.reg...)`\n",
            "/usr/local/lib/python3.6/dist-packages/ipykernel_launcher.py:42: UserWarning: Update your `Conv2D` call to the Keras 2 API: `Conv2D(10, (4, 4))`\n"
          ],
          "name": "stderr"
        },
        {
          "output_type": "stream",
          "text": [
            "_________________________________________________________________\n",
            "Layer (type)                 Output Shape              Param #   \n",
            "=================================================================\n",
            "conv2d_1 (Conv2D)            (None, 26, 26, 16)        160       \n",
            "_________________________________________________________________\n",
            "batch_normalization_1 (Batch (None, 26, 26, 16)        64        \n",
            "_________________________________________________________________\n",
            "activation_1 (Activation)    (None, 26, 26, 16)        0         \n",
            "_________________________________________________________________\n",
            "dropout_1 (Dropout)          (None, 26, 26, 16)        0         \n",
            "_________________________________________________________________\n",
            "conv2d_2 (Conv2D)            (None, 24, 24, 32)        4640      \n",
            "_________________________________________________________________\n",
            "batch_normalization_2 (Batch (None, 24, 24, 32)        128       \n",
            "_________________________________________________________________\n",
            "activation_2 (Activation)    (None, 24, 24, 32)        0         \n",
            "_________________________________________________________________\n",
            "dropout_2 (Dropout)          (None, 24, 24, 32)        0         \n",
            "_________________________________________________________________\n",
            "conv2d_3 (Conv2D)            (None, 24, 24, 10)        330       \n",
            "_________________________________________________________________\n",
            "activation_3 (Activation)    (None, 24, 24, 10)        0         \n",
            "_________________________________________________________________\n",
            "max_pooling2d_1 (MaxPooling2 (None, 12, 12, 10)        0         \n",
            "_________________________________________________________________\n",
            "conv2d_4 (Conv2D)            (None, 10, 10, 16)        1456      \n",
            "_________________________________________________________________\n",
            "batch_normalization_3 (Batch (None, 10, 10, 16)        64        \n",
            "_________________________________________________________________\n",
            "activation_4 (Activation)    (None, 10, 10, 16)        0         \n",
            "_________________________________________________________________\n",
            "dropout_3 (Dropout)          (None, 10, 10, 16)        0         \n",
            "_________________________________________________________________\n",
            "conv2d_5 (Conv2D)            (None, 8, 8, 16)          2320      \n",
            "_________________________________________________________________\n",
            "batch_normalization_4 (Batch (None, 8, 8, 16)          64        \n",
            "_________________________________________________________________\n",
            "activation_5 (Activation)    (None, 8, 8, 16)          0         \n",
            "_________________________________________________________________\n",
            "dropout_4 (Dropout)          (None, 8, 8, 16)          0         \n",
            "_________________________________________________________________\n",
            "conv2d_6 (Conv2D)            (None, 6, 6, 16)          2320      \n",
            "_________________________________________________________________\n",
            "batch_normalization_5 (Batch (None, 6, 6, 16)          64        \n",
            "_________________________________________________________________\n",
            "activation_6 (Activation)    (None, 6, 6, 16)          0         \n",
            "_________________________________________________________________\n",
            "dropout_5 (Dropout)          (None, 6, 6, 16)          0         \n",
            "_________________________________________________________________\n",
            "conv2d_7 (Conv2D)            (None, 4, 4, 16)          2320      \n",
            "_________________________________________________________________\n",
            "batch_normalization_6 (Batch (None, 4, 4, 16)          64        \n",
            "_________________________________________________________________\n",
            "activation_7 (Activation)    (None, 4, 4, 16)          0         \n",
            "_________________________________________________________________\n",
            "dropout_6 (Dropout)          (None, 4, 4, 16)          0         \n",
            "_________________________________________________________________\n",
            "conv2d_8 (Conv2D)            (None, 1, 1, 10)          2570      \n",
            "_________________________________________________________________\n",
            "batch_normalization_7 (Batch (None, 1, 1, 10)          40        \n",
            "_________________________________________________________________\n",
            "dropout_7 (Dropout)          (None, 1, 1, 10)          0         \n",
            "_________________________________________________________________\n",
            "flatten_1 (Flatten)          (None, 10)                0         \n",
            "_________________________________________________________________\n",
            "activation_8 (Activation)    (None, 10)                0         \n",
            "=================================================================\n",
            "Total params: 16,604\n",
            "Trainable params: 16,360\n",
            "Non-trainable params: 244\n",
            "_________________________________________________________________\n"
          ],
          "name": "stdout"
        }
      ]
    },
    {
      "cell_type": "code",
      "metadata": {
        "id": "_ulTjCQ4tcFf",
        "colab_type": "code",
        "colab": {}
      },
      "source": [
        "from keras.optimizers import Adam\n",
        "from keras.callbacks import LearningRateScheduler\n",
        "def scheduler(epoch, lr):\n",
        "  return round(0.003 * 1/(1 + 0.319 * epoch), 10)\n",
        "\n",
        "model.compile(loss='categorical_crossentropy', optimizer='adam', metrics=['accuracy'])\n",
        "#model.compile(loss='categorical_crossentropy', optimizer=Adam(lr=0.003), metrics=['accuracy'])"
      ],
      "execution_count": 0,
      "outputs": []
    },
    {
      "cell_type": "code",
      "metadata": {
        "id": "m4VAG_LHtewH",
        "colab_type": "code",
        "colab": {
          "base_uri": "https://localhost:8080/",
          "height": 1394
        },
        "outputId": "6f5405d3-e7a1-4093-c4e3-2d99ed2ba21b"
      },
      "source": [
        "model.fit_generator(train_iterator, steps_per_epoch=len(train_iterator), epochs=40,validation_data=(X_test, y_test))\n",
        "_, acc = model.evaluate_generator(test_iterator, steps=len(test_iterator), verbose=1)"
      ],
      "execution_count": 7,
      "outputs": [
        {
          "output_type": "stream",
          "text": [
            "Epoch 1/40\n",
            "938/938 [==============================] - 16s 17ms/step - loss: 0.1207 - acc: 0.9568 - val_loss: 0.2145 - val_acc: 0.9863\n",
            "Epoch 2/40\n",
            "938/938 [==============================] - 13s 14ms/step - loss: 0.1172 - acc: 0.9573 - val_loss: 0.3880 - val_acc: 0.9743\n",
            "Epoch 3/40\n",
            "938/938 [==============================] - 13s 14ms/step - loss: 0.1157 - acc: 0.9568 - val_loss: 0.2835 - val_acc: 0.9819\n",
            "Epoch 4/40\n",
            "938/938 [==============================] - 13s 14ms/step - loss: 0.1093 - acc: 0.9583 - val_loss: 0.3748 - val_acc: 0.9745\n",
            "Epoch 5/40\n",
            "938/938 [==============================] - 14s 15ms/step - loss: 0.1115 - acc: 0.9569 - val_loss: 0.4041 - val_acc: 0.9712\n",
            "Epoch 6/40\n",
            "938/938 [==============================] - 13s 14ms/step - loss: 0.1112 - acc: 0.9564 - val_loss: 0.7982 - val_acc: 0.9417\n",
            "Epoch 7/40\n",
            "938/938 [==============================] - 13s 14ms/step - loss: 0.1090 - acc: 0.9565 - val_loss: 0.5177 - val_acc: 0.9624\n",
            "Epoch 8/40\n",
            "938/938 [==============================] - 13s 14ms/step - loss: 0.1092 - acc: 0.9555 - val_loss: 1.0872 - val_acc: 0.9168\n",
            "Epoch 9/40\n",
            "938/938 [==============================] - 13s 14ms/step - loss: 0.1085 - acc: 0.9573 - val_loss: 1.6934 - val_acc: 0.8813\n",
            "Epoch 10/40\n",
            "938/938 [==============================] - 13s 14ms/step - loss: 0.1075 - acc: 0.9571 - val_loss: 0.9142 - val_acc: 0.9355\n",
            "Epoch 11/40\n",
            "938/938 [==============================] - 13s 14ms/step - loss: 0.1086 - acc: 0.9558 - val_loss: 1.3049 - val_acc: 0.9036\n",
            "Epoch 12/40\n",
            "938/938 [==============================] - 14s 15ms/step - loss: 0.1058 - acc: 0.9571 - val_loss: 2.1041 - val_acc: 0.8518\n",
            "Epoch 13/40\n",
            "938/938 [==============================] - 13s 14ms/step - loss: 0.1064 - acc: 0.9568 - val_loss: 0.9704 - val_acc: 0.9277\n",
            "Epoch 14/40\n",
            "938/938 [==============================] - 13s 14ms/step - loss: 0.1018 - acc: 0.9580 - val_loss: 0.7392 - val_acc: 0.9468\n",
            "Epoch 15/40\n",
            "938/938 [==============================] - 13s 14ms/step - loss: 0.1040 - acc: 0.9572 - val_loss: 0.5328 - val_acc: 0.9591\n",
            "Epoch 16/40\n",
            "938/938 [==============================] - 13s 14ms/step - loss: 0.1026 - acc: 0.9583 - val_loss: 1.3877 - val_acc: 0.8968\n",
            "Epoch 17/40\n",
            "938/938 [==============================] - 13s 14ms/step - loss: 0.1024 - acc: 0.9580 - val_loss: 0.8349 - val_acc: 0.9408\n",
            "Epoch 18/40\n",
            "938/938 [==============================] - 14s 15ms/step - loss: 0.1030 - acc: 0.9591 - val_loss: 0.9029 - val_acc: 0.9327\n",
            "Epoch 19/40\n",
            "938/938 [==============================] - 13s 14ms/step - loss: 0.1024 - acc: 0.9572 - val_loss: 0.9823 - val_acc: 0.9279\n",
            "Epoch 20/40\n",
            "938/938 [==============================] - 13s 14ms/step - loss: 0.1018 - acc: 0.9590 - val_loss: 1.5040 - val_acc: 0.8938\n",
            "Epoch 21/40\n",
            "938/938 [==============================] - 13s 14ms/step - loss: 0.1009 - acc: 0.9579 - val_loss: 1.2510 - val_acc: 0.9092\n",
            "Epoch 22/40\n",
            "938/938 [==============================] - 13s 14ms/step - loss: 0.0989 - acc: 0.9591 - val_loss: 0.6207 - val_acc: 0.9547\n",
            "Epoch 23/40\n",
            "938/938 [==============================] - 13s 14ms/step - loss: 0.1008 - acc: 0.9583 - val_loss: 2.3191 - val_acc: 0.8288\n",
            "Epoch 24/40\n",
            "938/938 [==============================] - 15s 16ms/step - loss: 0.1030 - acc: 0.9570 - val_loss: 1.9987 - val_acc: 0.8605\n",
            "Epoch 25/40\n",
            "938/938 [==============================] - 13s 14ms/step - loss: 0.1049 - acc: 0.9575 - val_loss: 1.0481 - val_acc: 0.9241\n",
            "Epoch 26/40\n",
            "938/938 [==============================] - 13s 14ms/step - loss: 0.1027 - acc: 0.9579 - val_loss: 1.5367 - val_acc: 0.8864\n",
            "Epoch 27/40\n",
            "938/938 [==============================] - 13s 14ms/step - loss: 0.1006 - acc: 0.9586 - val_loss: 2.1077 - val_acc: 0.8561\n",
            "Epoch 28/40\n",
            "938/938 [==============================] - 13s 14ms/step - loss: 0.1018 - acc: 0.9569 - val_loss: 0.8966 - val_acc: 0.9345\n",
            "Epoch 29/40\n",
            "938/938 [==============================] - 13s 14ms/step - loss: 0.1026 - acc: 0.9567 - val_loss: 1.1796 - val_acc: 0.9138\n",
            "Epoch 30/40\n",
            "938/938 [==============================] - 14s 15ms/step - loss: 0.1021 - acc: 0.9568 - val_loss: 1.2150 - val_acc: 0.9165\n",
            "Epoch 31/40\n",
            "938/938 [==============================] - 13s 14ms/step - loss: 0.1022 - acc: 0.9569 - val_loss: 0.5809 - val_acc: 0.9595\n",
            "Epoch 32/40\n",
            "938/938 [==============================] - 13s 14ms/step - loss: 0.1028 - acc: 0.9569 - val_loss: 0.7779 - val_acc: 0.9440\n",
            "Epoch 33/40\n",
            "938/938 [==============================] - 13s 14ms/step - loss: 0.1018 - acc: 0.9581 - val_loss: 1.1832 - val_acc: 0.9156\n",
            "Epoch 34/40\n",
            "938/938 [==============================] - 13s 14ms/step - loss: 0.1007 - acc: 0.9584 - val_loss: 0.7052 - val_acc: 0.9504\n",
            "Epoch 35/40\n",
            "938/938 [==============================] - 13s 14ms/step - loss: 0.1033 - acc: 0.9566 - val_loss: 1.3327 - val_acc: 0.9032\n",
            "Epoch 36/40\n",
            "938/938 [==============================] - 14s 15ms/step - loss: 0.1003 - acc: 0.9578 - val_loss: 0.7848 - val_acc: 0.9425\n",
            "Epoch 37/40\n",
            "938/938 [==============================] - 13s 14ms/step - loss: 0.1001 - acc: 0.9591 - val_loss: 1.0053 - val_acc: 0.9303\n",
            "Epoch 38/40\n",
            "938/938 [==============================] - 13s 14ms/step - loss: 0.0994 - acc: 0.9584 - val_loss: 1.1607 - val_acc: 0.9147\n",
            "Epoch 39/40\n",
            "938/938 [==============================] - 13s 14ms/step - loss: 0.1009 - acc: 0.9578 - val_loss: 0.8587 - val_acc: 0.9374\n",
            "Epoch 40/40\n",
            "938/938 [==============================] - 13s 14ms/step - loss: 0.1017 - acc: 0.9569 - val_loss: 1.4363 - val_acc: 0.8974\n",
            "157/157 [==============================] - 1s 3ms/step\n"
          ],
          "name": "stdout"
        }
      ]
    },
    {
      "cell_type": "code",
      "metadata": {
        "id": "cOF0WHmNtib1",
        "colab_type": "code",
        "colab": {
          "base_uri": "https://localhost:8080/",
          "height": 34
        },
        "outputId": "a53af8af-f554-4e0a-e7ed-78be8f2e4faf"
      },
      "source": [
        "print('Test Accuracy: %.3f' % (acc * 100))"
      ],
      "execution_count": 8,
      "outputs": [
        {
          "output_type": "stream",
          "text": [
            "Test Accuracy: 99.290\n"
          ],
          "name": "stdout"
        }
      ]
    }
  ]
}